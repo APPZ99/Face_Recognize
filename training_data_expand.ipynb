{
 "cells": [
  {
   "cell_type": "code",
   "execution_count": 2,
   "id": "d51ae200",
   "metadata": {},
   "outputs": [],
   "source": [
    "import numpy as np\n",
    "import matplotlib.pyplot as plt\n",
    "import os\n",
    "from PIL import Image\n",
    "\n",
    "import torch\n",
    "from torch.utils.data import Dataset\n",
    "from torch.utils.data import DataLoader\n",
    "from torchvision import transforms\n",
    "\n",
    "from torchvision.utils import save_image\n",
    "\n",
    "import cv2\n",
    "\n",
    "%matplotlib inline"
   ]
  },
  {
   "cell_type": "markdown",
   "id": "bbc180e9",
   "metadata": {},
   "source": [
    "## 创建小样本对应的文件夹"
   ]
  },
  {
   "cell_type": "code",
   "execution_count": 2,
   "id": "f285ae7a",
   "metadata": {},
   "outputs": [
    {
     "name": "stdout",
     "output_type": "stream",
     "text": [
      "/home/rush/Face_Recognize\n"
     ]
    }
   ],
   "source": [
    "print(os.getcwd())"
   ]
  },
  {
   "cell_type": "code",
   "execution_count": 3,
   "id": "9a83fe91",
   "metadata": {},
   "outputs": [],
   "source": [
    "if not os.path.exists(os.path.join('facedata', 'black')):\n",
    "    os.mkdir(os.path.join('facedata', 'black'))\n",
    "    \n",
    "if not os.path.exists(os.path.join('facedata', 'asian')):\n",
    "    os.makedirs(os.path.join('facedata', 'asian'))\n",
    "    \n",
    "if not os.path.exists(os.path.join('facedata', 'hispanic')):\n",
    "    os.mkdir(os.path.join('facedata', 'hispanic'))\n",
    "    \n",
    "if not os.path.exists(os.path.join('facedata', 'other')):\n",
    "    os.makedirs(os.path.join('facedata', 'other'))"
   ]
  },
  {
   "cell_type": "markdown",
   "id": "0bbe8da3",
   "metadata": {},
   "source": [
    "## 复制对应的样本到各个目录中"
   ]
  },
  {
   "cell_type": "code",
   "execution_count": 6,
   "id": "716f84fc",
   "metadata": {},
   "outputs": [
    {
     "name": "stdout",
     "output_type": "stream",
     "text": [
      "copy /home/rush/Face_Recognize/facedata/train/2479.asian.png -> /home/rush/Face_Recognize/facedata/asian/2479.asian.png\n",
      "copy /home/rush/Face_Recognize/facedata/train/2580.black.png -> /home/rush/Face_Recognize/facedata/black/2580.black.png\n",
      "copy /home/rush/Face_Recognize/facedata/train/2926.asian.png -> /home/rush/Face_Recognize/facedata/asian/2926.asian.png\n",
      "copy /home/rush/Face_Recognize/facedata/train/2494.asian.png -> /home/rush/Face_Recognize/facedata/asian/2494.asian.png\n",
      "copy /home/rush/Face_Recognize/facedata/train/2554.black.png -> /home/rush/Face_Recognize/facedata/black/2554.black.png\n",
      "copy /home/rush/Face_Recognize/facedata/train/3053.black.png -> /home/rush/Face_Recognize/facedata/black/3053.black.png\n",
      "copy /home/rush/Face_Recognize/facedata/train/1988.other.png -> /home/rush/Face_Recognize/facedata/other/1988.other.png\n",
      "copy /home/rush/Face_Recognize/facedata/train/2593.black.png -> /home/rush/Face_Recognize/facedata/black/2593.black.png\n",
      "copy /home/rush/Face_Recognize/facedata/train/2533.other.png -> /home/rush/Face_Recognize/facedata/other/2533.other.png\n",
      "copy /home/rush/Face_Recognize/facedata/train/3054.black.png -> /home/rush/Face_Recognize/facedata/black/3054.black.png\n",
      "copy /home/rush/Face_Recognize/facedata/train/2549.hispanic.png -> /home/rush/Face_Recognize/facedata/hispanic/2549.hispanic.png\n",
      "copy /home/rush/Face_Recognize/facedata/train/2532.other.png -> /home/rush/Face_Recognize/facedata/other/2532.other.png\n",
      "copy /home/rush/Face_Recognize/facedata/train/3149.black.png -> /home/rush/Face_Recognize/facedata/black/3149.black.png\n",
      "copy /home/rush/Face_Recognize/facedata/train/2495.asian.png -> /home/rush/Face_Recognize/facedata/asian/2495.asian.png\n",
      "copy /home/rush/Face_Recognize/facedata/train/2557.black.png -> /home/rush/Face_Recognize/facedata/black/2557.black.png\n",
      "copy /home/rush/Face_Recognize/facedata/train/1553.asian.png -> /home/rush/Face_Recognize/facedata/asian/1553.asian.png\n",
      "copy /home/rush/Face_Recognize/facedata/train/2563.black.png -> /home/rush/Face_Recognize/facedata/black/2563.black.png\n",
      "copy /home/rush/Face_Recognize/facedata/train/3119.other.png -> /home/rush/Face_Recognize/facedata/other/3119.other.png\n",
      "copy /home/rush/Face_Recognize/facedata/train/2523.hispanic.png -> /home/rush/Face_Recognize/facedata/hispanic/2523.hispanic.png\n",
      "copy /home/rush/Face_Recognize/facedata/train/2583.black.png -> /home/rush/Face_Recognize/facedata/black/2583.black.png\n",
      "copy /home/rush/Face_Recognize/facedata/train/2503.asian.png -> /home/rush/Face_Recognize/facedata/asian/2503.asian.png\n",
      "copy /home/rush/Face_Recognize/facedata/train/2579.black.png -> /home/rush/Face_Recognize/facedata/black/2579.black.png\n",
      "copy /home/rush/Face_Recognize/facedata/train/3062.black.png -> /home/rush/Face_Recognize/facedata/black/3062.black.png\n",
      "copy /home/rush/Face_Recognize/facedata/train/1735.asian.png -> /home/rush/Face_Recognize/facedata/asian/1735.asian.png\n",
      "copy /home/rush/Face_Recognize/facedata/train/2512.asian.png -> /home/rush/Face_Recognize/facedata/asian/2512.asian.png\n",
      "copy /home/rush/Face_Recognize/facedata/train/2498.asian.png -> /home/rush/Face_Recognize/facedata/asian/2498.asian.png\n",
      "copy /home/rush/Face_Recognize/facedata/train/3064.black.png -> /home/rush/Face_Recognize/facedata/black/3064.black.png\n",
      "copy /home/rush/Face_Recognize/facedata/train/3061.black.png -> /home/rush/Face_Recognize/facedata/black/3061.black.png\n",
      "copy /home/rush/Face_Recognize/facedata/train/2499.asian.png -> /home/rush/Face_Recognize/facedata/asian/2499.asian.png\n",
      "copy /home/rush/Face_Recognize/facedata/train/2597.black.png -> /home/rush/Face_Recognize/facedata/black/2597.black.png\n",
      "copy /home/rush/Face_Recognize/facedata/train/2544.other.png -> /home/rush/Face_Recognize/facedata/other/2544.other.png\n",
      "copy /home/rush/Face_Recognize/facedata/train/2932.hispanic.png -> /home/rush/Face_Recognize/facedata/hispanic/2932.hispanic.png\n",
      "copy /home/rush/Face_Recognize/facedata/train/2520.asian.png -> /home/rush/Face_Recognize/facedata/asian/2520.asian.png\n",
      "copy /home/rush/Face_Recognize/facedata/train/1883.black.png -> /home/rush/Face_Recognize/facedata/black/1883.black.png\n",
      "copy /home/rush/Face_Recognize/facedata/train/2584.hispanic.png -> /home/rush/Face_Recognize/facedata/hispanic/2584.hispanic.png\n",
      "copy /home/rush/Face_Recognize/facedata/train/1555.asian.png -> /home/rush/Face_Recognize/facedata/asian/1555.asian.png\n",
      "copy /home/rush/Face_Recognize/facedata/train/3057.black.png -> /home/rush/Face_Recognize/facedata/black/3057.black.png\n",
      "copy /home/rush/Face_Recognize/facedata/train/3144.asian.png -> /home/rush/Face_Recognize/facedata/asian/3144.asian.png\n",
      "copy /home/rush/Face_Recognize/facedata/train/3222.black.png -> /home/rush/Face_Recognize/facedata/black/3222.black.png\n",
      "copy /home/rush/Face_Recognize/facedata/train/2528.hispanic.png -> /home/rush/Face_Recognize/facedata/hispanic/2528.hispanic.png\n",
      "copy /home/rush/Face_Recognize/facedata/train/2556.black.png -> /home/rush/Face_Recognize/facedata/black/2556.black.png\n",
      "copy /home/rush/Face_Recognize/facedata/train/1425.hispanic.png -> /home/rush/Face_Recognize/facedata/hispanic/1425.hispanic.png\n",
      "copy /home/rush/Face_Recognize/facedata/train/3162.hispanic.png -> /home/rush/Face_Recognize/facedata/hispanic/3162.hispanic.png\n",
      "copy /home/rush/Face_Recognize/facedata/train/2500.asian.png -> /home/rush/Face_Recognize/facedata/asian/2500.asian.png\n",
      "copy /home/rush/Face_Recognize/facedata/train/2572.black.png -> /home/rush/Face_Recognize/facedata/black/2572.black.png\n",
      "copy /home/rush/Face_Recognize/facedata/train/3063.black.png -> /home/rush/Face_Recognize/facedata/black/3063.black.png\n",
      "copy /home/rush/Face_Recognize/facedata/train/3122.hispanic.png -> /home/rush/Face_Recognize/facedata/hispanic/3122.hispanic.png\n",
      "copy /home/rush/Face_Recognize/facedata/train/1529.asian.png -> /home/rush/Face_Recognize/facedata/asian/1529.asian.png\n",
      "copy /home/rush/Face_Recognize/facedata/train/2944.black.png -> /home/rush/Face_Recognize/facedata/black/2944.black.png\n",
      "copy /home/rush/Face_Recognize/facedata/train/2505.asian.png -> /home/rush/Face_Recognize/facedata/asian/2505.asian.png\n",
      "copy /home/rush/Face_Recognize/facedata/train/3121.hispanic.png -> /home/rush/Face_Recognize/facedata/hispanic/3121.hispanic.png\n",
      "copy /home/rush/Face_Recognize/facedata/train/2484.hispanic.png -> /home/rush/Face_Recognize/facedata/hispanic/2484.hispanic.png\n",
      "copy /home/rush/Face_Recognize/facedata/train/1556.asian.png -> /home/rush/Face_Recognize/facedata/asian/1556.asian.png\n",
      "copy /home/rush/Face_Recognize/facedata/train/2570.black.png -> /home/rush/Face_Recognize/facedata/black/2570.black.png\n",
      "copy /home/rush/Face_Recognize/facedata/train/2562.black.png -> /home/rush/Face_Recognize/facedata/black/2562.black.png\n",
      "copy /home/rush/Face_Recognize/facedata/train/2521.asian.png -> /home/rush/Face_Recognize/facedata/asian/2521.asian.png\n",
      "copy /home/rush/Face_Recognize/facedata/train/2491.asian.png -> /home/rush/Face_Recognize/facedata/asian/2491.asian.png\n",
      "copy /home/rush/Face_Recognize/facedata/train/2480.asian.png -> /home/rush/Face_Recognize/facedata/asian/2480.asian.png\n",
      "copy /home/rush/Face_Recognize/facedata/train/2501.asian.png -> /home/rush/Face_Recognize/facedata/asian/2501.asian.png\n",
      "copy /home/rush/Face_Recognize/facedata/train/2577.black.png -> /home/rush/Face_Recognize/facedata/black/2577.black.png\n",
      "copy /home/rush/Face_Recognize/facedata/train/3220.asian.png -> /home/rush/Face_Recognize/facedata/asian/3220.asian.png\n",
      "copy /home/rush/Face_Recognize/facedata/train/2573.black.png -> /home/rush/Face_Recognize/facedata/black/2573.black.png\n",
      "copy /home/rush/Face_Recognize/facedata/train/1362.black.png -> /home/rush/Face_Recognize/facedata/black/1362.black.png\n",
      "copy /home/rush/Face_Recognize/facedata/train/2561.black.png -> /home/rush/Face_Recognize/facedata/black/2561.black.png\n",
      "copy /home/rush/Face_Recognize/facedata/train/2925.asian.png -> /home/rush/Face_Recognize/facedata/asian/2925.asian.png\n",
      "copy /home/rush/Face_Recognize/facedata/train/2506.asian.png -> /home/rush/Face_Recognize/facedata/asian/2506.asian.png\n",
      "copy /home/rush/Face_Recognize/facedata/train/2511.asian.png -> /home/rush/Face_Recognize/facedata/asian/2511.asian.png\n",
      "copy /home/rush/Face_Recognize/facedata/train/2578.black.png -> /home/rush/Face_Recognize/facedata/black/2578.black.png\n",
      "copy /home/rush/Face_Recognize/facedata/train/2930.hispanic.png -> /home/rush/Face_Recognize/facedata/hispanic/2930.hispanic.png\n",
      "copy /home/rush/Face_Recognize/facedata/train/2940.black.png -> /home/rush/Face_Recognize/facedata/black/2940.black.png\n",
      "copy /home/rush/Face_Recognize/facedata/train/2924.asian.png -> /home/rush/Face_Recognize/facedata/asian/2924.asian.png\n",
      "copy /home/rush/Face_Recognize/facedata/train/2558.black.png -> /home/rush/Face_Recognize/facedata/black/2558.black.png\n",
      "copy /home/rush/Face_Recognize/facedata/train/2923.asian.png -> /home/rush/Face_Recognize/facedata/asian/2923.asian.png\n",
      "copy /home/rush/Face_Recognize/facedata/train/1610.hispanic.png -> /home/rush/Face_Recognize/facedata/hispanic/1610.hispanic.png\n",
      "copy /home/rush/Face_Recognize/facedata/train/1334.asian.png -> /home/rush/Face_Recognize/facedata/asian/1334.asian.png\n",
      "copy /home/rush/Face_Recognize/facedata/train/2574.black.png -> /home/rush/Face_Recognize/facedata/black/2574.black.png\n",
      "copy /home/rush/Face_Recognize/facedata/train/2518.asian.png -> /home/rush/Face_Recognize/facedata/asian/2518.asian.png\n",
      "copy /home/rush/Face_Recognize/facedata/train/2582.black.png -> /home/rush/Face_Recognize/facedata/black/2582.black.png\n",
      "copy /home/rush/Face_Recognize/facedata/train/3142.asian.png -> /home/rush/Face_Recognize/facedata/asian/3142.asian.png\n",
      "copy /home/rush/Face_Recognize/facedata/train/1691.hispanic.png -> /home/rush/Face_Recognize/facedata/hispanic/1691.hispanic.png\n",
      "copy /home/rush/Face_Recognize/facedata/train/2509.asian.png -> /home/rush/Face_Recognize/facedata/asian/2509.asian.png\n",
      "copy /home/rush/Face_Recognize/facedata/train/2942.black.png -> /home/rush/Face_Recognize/facedata/black/2942.black.png\n",
      "copy /home/rush/Face_Recognize/facedata/train/2507.asian.png -> /home/rush/Face_Recognize/facedata/asian/2507.asian.png\n",
      "copy /home/rush/Face_Recognize/facedata/train/3051.asian.png -> /home/rush/Face_Recognize/facedata/asian/3051.asian.png\n",
      "copy /home/rush/Face_Recognize/facedata/train/2931.hispanic.png -> /home/rush/Face_Recognize/facedata/hispanic/2931.hispanic.png\n",
      "copy /home/rush/Face_Recognize/facedata/train/1694.hispanic.png -> /home/rush/Face_Recognize/facedata/hispanic/1694.hispanic.png\n",
      "copy /home/rush/Face_Recognize/facedata/train/3060.black.png -> /home/rush/Face_Recognize/facedata/black/3060.black.png\n",
      "copy /home/rush/Face_Recognize/facedata/train/2550.black.png -> /home/rush/Face_Recognize/facedata/black/2550.black.png\n",
      "copy /home/rush/Face_Recognize/facedata/train/2530.hispanic.png -> /home/rush/Face_Recognize/facedata/hispanic/2530.hispanic.png\n",
      "copy /home/rush/Face_Recognize/facedata/train/2529.hispanic.png -> /home/rush/Face_Recognize/facedata/hispanic/2529.hispanic.png\n",
      "copy /home/rush/Face_Recognize/facedata/train/2589.black.png -> /home/rush/Face_Recognize/facedata/black/2589.black.png\n",
      "copy /home/rush/Face_Recognize/facedata/train/2587.hispanic.png -> /home/rush/Face_Recognize/facedata/hispanic/2587.hispanic.png\n",
      "copy /home/rush/Face_Recognize/facedata/train/3059.black.png -> /home/rush/Face_Recognize/facedata/black/3059.black.png\n",
      "copy /home/rush/Face_Recognize/facedata/train/2568.hispanic.png -> /home/rush/Face_Recognize/facedata/hispanic/2568.hispanic.png\n",
      "copy /home/rush/Face_Recognize/facedata/train/1552.hispanic.png -> /home/rush/Face_Recognize/facedata/hispanic/1552.hispanic.png\n",
      "copy /home/rush/Face_Recognize/facedata/train/2478.asian.png -> /home/rush/Face_Recognize/facedata/asian/2478.asian.png\n",
      "copy /home/rush/Face_Recognize/facedata/train/3056.black.png -> /home/rush/Face_Recognize/facedata/black/3056.black.png\n",
      "copy /home/rush/Face_Recognize/facedata/train/2489.asian.png -> /home/rush/Face_Recognize/facedata/asian/2489.asian.png\n",
      "copy /home/rush/Face_Recognize/facedata/train/2517.asian.png -> /home/rush/Face_Recognize/facedata/asian/2517.asian.png\n",
      "copy /home/rush/Face_Recognize/facedata/train/1298.hispanic.png -> /home/rush/Face_Recognize/facedata/hispanic/1298.hispanic.png\n",
      "copy /home/rush/Face_Recognize/facedata/train/3141.asian.png -> /home/rush/Face_Recognize/facedata/asian/3141.asian.png\n",
      "copy /home/rush/Face_Recognize/facedata/train/3052.black.png -> /home/rush/Face_Recognize/facedata/black/3052.black.png\n",
      "copy /home/rush/Face_Recognize/facedata/train/2594.black.png -> /home/rush/Face_Recognize/facedata/black/2594.black.png\n",
      "copy /home/rush/Face_Recognize/facedata/train/3117.other.png -> /home/rush/Face_Recognize/facedata/other/3117.other.png\n",
      "copy /home/rush/Face_Recognize/facedata/train/2504.asian.png -> /home/rush/Face_Recognize/facedata/asian/2504.asian.png\n",
      "copy /home/rush/Face_Recognize/facedata/train/1361.black.png -> /home/rush/Face_Recognize/facedata/black/1361.black.png\n",
      "copy /home/rush/Face_Recognize/facedata/train/2551.black.png -> /home/rush/Face_Recognize/facedata/black/2551.black.png\n",
      "copy /home/rush/Face_Recognize/facedata/train/2552.black.png -> /home/rush/Face_Recognize/facedata/black/2552.black.png\n",
      "copy /home/rush/Face_Recognize/facedata/train/3050.asian.png -> /home/rush/Face_Recognize/facedata/asian/3050.asian.png\n",
      "copy /home/rush/Face_Recognize/facedata/train/2567.hispanic.png -> /home/rush/Face_Recognize/facedata/hispanic/2567.hispanic.png\n",
      "copy /home/rush/Face_Recognize/facedata/train/2588.black.png -> /home/rush/Face_Recognize/facedata/black/2588.black.png\n",
      "copy /home/rush/Face_Recognize/facedata/train/1653.other.png -> /home/rush/Face_Recognize/facedata/other/1653.other.png\n",
      "copy /home/rush/Face_Recognize/facedata/train/2519.asian.png -> /home/rush/Face_Recognize/facedata/asian/2519.asian.png\n",
      "copy /home/rush/Face_Recognize/facedata/train/2565.black.png -> /home/rush/Face_Recognize/facedata/black/2565.black.png\n",
      "copy /home/rush/Face_Recognize/facedata/train/2592.black.png -> /home/rush/Face_Recognize/facedata/black/2592.black.png\n",
      "copy /home/rush/Face_Recognize/facedata/train/2564.black.png -> /home/rush/Face_Recognize/facedata/black/2564.black.png\n",
      "copy /home/rush/Face_Recognize/facedata/train/2542.other.png -> /home/rush/Face_Recognize/facedata/other/2542.other.png\n",
      "copy /home/rush/Face_Recognize/facedata/train/2524.hispanic.png -> /home/rush/Face_Recognize/facedata/hispanic/2524.hispanic.png\n",
      "copy /home/rush/Face_Recognize/facedata/train/2522.asian.png -> /home/rush/Face_Recognize/facedata/asian/2522.asian.png\n",
      "copy /home/rush/Face_Recognize/facedata/train/2575.black.png -> /home/rush/Face_Recognize/facedata/black/2575.black.png\n",
      "copy /home/rush/Face_Recognize/facedata/train/3143.asian.png -> /home/rush/Face_Recognize/facedata/asian/3143.asian.png\n",
      "copy /home/rush/Face_Recognize/facedata/train/2569.black.png -> /home/rush/Face_Recognize/facedata/black/2569.black.png\n",
      "copy /home/rush/Face_Recognize/facedata/train/2576.black.png -> /home/rush/Face_Recognize/facedata/black/2576.black.png\n",
      "copy /home/rush/Face_Recognize/facedata/train/2581.black.png -> /home/rush/Face_Recognize/facedata/black/2581.black.png\n",
      "copy /home/rush/Face_Recognize/facedata/train/2547.other.png -> /home/rush/Face_Recognize/facedata/other/2547.other.png\n",
      "copy /home/rush/Face_Recognize/facedata/train/2566.black.png -> /home/rush/Face_Recognize/facedata/black/2566.black.png\n",
      "copy /home/rush/Face_Recognize/facedata/train/2514.asian.png -> /home/rush/Face_Recognize/facedata/asian/2514.asian.png\n",
      "copy /home/rush/Face_Recognize/facedata/train/2515.asian.png -> /home/rush/Face_Recognize/facedata/asian/2515.asian.png\n",
      "copy /home/rush/Face_Recognize/facedata/train/2560.black.png -> /home/rush/Face_Recognize/facedata/black/2560.black.png\n",
      "copy /home/rush/Face_Recognize/facedata/train/2535.asian.png -> /home/rush/Face_Recognize/facedata/asian/2535.asian.png\n",
      "copy /home/rush/Face_Recognize/facedata/train/2596.black.png -> /home/rush/Face_Recognize/facedata/black/2596.black.png\n",
      "copy /home/rush/Face_Recognize/facedata/train/2559.black.png -> /home/rush/Face_Recognize/facedata/black/2559.black.png\n",
      "copy /home/rush/Face_Recognize/facedata/train/2490.asian.png -> /home/rush/Face_Recognize/facedata/asian/2490.asian.png\n",
      "copy /home/rush/Face_Recognize/facedata/train/2546.other.png -> /home/rush/Face_Recognize/facedata/other/2546.other.png\n",
      "copy /home/rush/Face_Recognize/facedata/train/2586.hispanic.png -> /home/rush/Face_Recognize/facedata/hispanic/2586.hispanic.png\n",
      "copy /home/rush/Face_Recognize/facedata/train/2590.black.png -> /home/rush/Face_Recognize/facedata/black/2590.black.png\n",
      "copy /home/rush/Face_Recognize/facedata/train/2571.black.png -> /home/rush/Face_Recognize/facedata/black/2571.black.png\n",
      "copy /home/rush/Face_Recognize/facedata/train/1551.black.png -> /home/rush/Face_Recognize/facedata/black/1551.black.png\n",
      "copy /home/rush/Face_Recognize/facedata/train/2591.black.png -> /home/rush/Face_Recognize/facedata/black/2591.black.png\n",
      "copy /home/rush/Face_Recognize/facedata/train/1884.asian.png -> /home/rush/Face_Recognize/facedata/asian/1884.asian.png\n",
      "copy /home/rush/Face_Recognize/facedata/train/2941.other.png -> /home/rush/Face_Recognize/facedata/other/2941.other.png\n",
      "copy /home/rush/Face_Recognize/facedata/train/1360.black.png -> /home/rush/Face_Recognize/facedata/black/1360.black.png\n",
      "copy /home/rush/Face_Recognize/facedata/train/2391.other.png -> /home/rush/Face_Recognize/facedata/other/2391.other.png\n",
      "copy /home/rush/Face_Recognize/facedata/train/2943.black.png -> /home/rush/Face_Recognize/facedata/black/2943.black.png\n",
      "copy /home/rush/Face_Recognize/facedata/train/2481.asian.png -> /home/rush/Face_Recognize/facedata/asian/2481.asian.png\n",
      "copy /home/rush/Face_Recognize/facedata/train/2553.black.png -> /home/rush/Face_Recognize/facedata/black/2553.black.png\n",
      "copy /home/rush/Face_Recognize/facedata/train/2394.hispanic.png -> /home/rush/Face_Recognize/facedata/hispanic/2394.hispanic.png\n",
      "copy /home/rush/Face_Recognize/facedata/train/2595.black.png -> /home/rush/Face_Recognize/facedata/black/2595.black.png\n",
      "copy /home/rush/Face_Recognize/facedata/train/3159.asian.png -> /home/rush/Face_Recognize/facedata/asian/3159.asian.png\n",
      "copy /home/rush/Face_Recognize/facedata/train/2516.asian.png -> /home/rush/Face_Recognize/facedata/asian/2516.asian.png\n",
      "copy /home/rush/Face_Recognize/facedata/train/2548.hispanic.png -> /home/rush/Face_Recognize/facedata/hispanic/2548.hispanic.png\n",
      "copy /home/rush/Face_Recognize/facedata/train/2555.black.png -> /home/rush/Face_Recognize/facedata/black/2555.black.png\n",
      "copy /home/rush/Face_Recognize/facedata/train/1728.asian.png -> /home/rush/Face_Recognize/facedata/asian/1728.asian.png\n",
      "copy /home/rush/Face_Recognize/facedata/train/2922.asian.png -> /home/rush/Face_Recognize/facedata/asian/2922.asian.png\n",
      "copy /home/rush/Face_Recognize/facedata/train/2513.asian.png -> /home/rush/Face_Recognize/facedata/asian/2513.asian.png\n",
      "copy /home/rush/Face_Recognize/facedata/train/2502.asian.png -> /home/rush/Face_Recognize/facedata/asian/2502.asian.png\n",
      "copy /home/rush/Face_Recognize/facedata/train/2477.asian.png -> /home/rush/Face_Recognize/facedata/asian/2477.asian.png\n"
     ]
    }
   ],
   "source": [
    "import shutil\n",
    "\n",
    "def mycopyfile(srcdir,srcfadir):\n",
    "    \n",
    "    # 判断样本所属人种\n",
    "    for fname in os.listdir(srcdir):\n",
    "        if not fname.endswith('.png'):\n",
    "            continue\n",
    "        \n",
    "        _, race, _ = fname.split('.')\n",
    "        \n",
    "        srcfile = srcdir + fname\n",
    "        if race == 'white':\n",
    "            continue\n",
    "        elif race == 'black':\n",
    "            dstfile = srcfadir + '/black/' + fname\n",
    "            shutil.copyfile(srcfile, dstfile)      #复制文件\n",
    "            print(\"copy %s -> %s\" %( srcfile,dstfile))\n",
    "        elif race == 'asian':\n",
    "            dstfile = srcfadir + '/asian/' + fname\n",
    "            shutil.copyfile(srcfile, dstfile)      #复制文件\n",
    "            print(\"copy %s -> %s\" %( srcfile,dstfile))\n",
    "        elif race == 'hispanic':\n",
    "            dstfile = srcfadir + '/hispanic/' + fname\n",
    "            shutil.copyfile(srcfile, dstfile)      #复制文件\n",
    "            print(\"copy %s -> %s\" %( srcfile,dstfile))\n",
    "        elif race == 'other':\n",
    "            dstfile = srcfadir + '/other/' + fname\n",
    "            shutil.copyfile(srcfile, dstfile)      #复制文件\n",
    "            print(\"copy %s -> %s\" %( srcfile,dstfile))\n",
    "    \n",
    "src = '/home/rush/Face_Recognize/facedata/train/'\n",
    "srcfa = '/home/rush/Face_Recognize/facedata'\n",
    "\n",
    "mycopyfile(src, srcfa)"
   ]
  },
  {
   "cell_type": "markdown",
   "id": "fcad6998",
   "metadata": {},
   "source": [
    "## 创建样本随机变换规则"
   ]
  },
  {
   "cell_type": "code",
   "execution_count": 3,
   "id": "d45b14af",
   "metadata": {},
   "outputs": [
    {
     "name": "stdout",
     "output_type": "stream",
     "text": [
      "(200, 200, 3)\n"
     ]
    },
    {
     "data": {
      "text/plain": [
       "<matplotlib.image.AxesImage at 0x7f80ca3a44d0>"
      ]
     },
     "execution_count": 3,
     "metadata": {},
     "output_type": "execute_result"
    },
    {
     "data": {
      "image/png": "[encoded data removed]",
      "text/plain": [
       "<Figure size 432x288 with 1 Axes>"
      ]
     },
     "metadata": {
      "needs_background": "light"
     },
     "output_type": "display_data"
    }
   ],
   "source": [
    "trans1 = transforms.RandomCrop(128, 128) # 随机裁剪\n",
    "trans2 = transforms.RandomHorizontalFlip()  # 水平翻转\n",
    "trans3 = transforms.RandomRotation(degrees = 45)  #  中心旋转\n",
    "#trans4 = transforms.RandomVerticalFlip()  # 垂直翻转\n",
    "trans5 = transforms.RandomResizedCrop(200)\n",
    "\n",
    "img = Image.open(os.path.join('facedata', 'asian', '1334.asian.png'))\n",
    "img1 = trans5(img)\n",
    "img1 = np.array(img1)\n",
    "print(img1.shape)\n",
    "#plt.imshow(img)\n",
    "plt.imshow(img1)\n",
    "#plt.savefig('test')"
   ]
  },
  {
   "cell_type": "code",
   "execution_count": 5,
   "id": "d4a5de15",
   "metadata": {},
   "outputs": [
    {
     "name": "stdout",
     "output_type": "stream",
     "text": [
      "done\n",
      "done\n",
      "done\n",
      "done\n"
     ]
    }
   ],
   "source": [
    "data_transforms = transforms.Compose([trans2, trans3, trans5])\n",
    "\n",
    "def expand_small_sample(srcdir):\n",
    "    #  获得样本总数\n",
    "    file_nums = len([listx for listx in os.listdir(srcdir)])\n",
    "    #print(file_nums)\n",
    "\n",
    "    #  计算应当操作的次数\n",
    "    oper_num = 1900 // file_nums\n",
    "    #print(oper_num)\n",
    "    \n",
    "    #  对原有样本进行操作\n",
    "    for fname in os.listdir(srcdir):\n",
    "        for i in range(oper_num):\n",
    "            idx, race, _ = fname.split('.')\n",
    "            #print(idx, race)\n",
    "            #  给新样本命名  总样本量为4000，所以在原有基础上加4000保证id唯一\n",
    "            idx_n = str(int(idx) + 4000) + '_' + str(i)\n",
    "            #print(idx_n)\n",
    "            old_sample = Image.open(os.path.join(srcdir + fname))\n",
    "            new_sample = data_transforms(old_sample)\n",
    "            #print(type(new_sample))\n",
    "            #new_sample = transforms.ToTensor()(new_sample)\n",
    "            #new_sample = np.asarray(new_sample)\n",
    "            #print(type(new_sample))\n",
    "            #new_sample = np.asarray(new_sample)\n",
    "            #new_sample = np.ndarray(new_sample)\n",
    "            # 保存新样本\n",
    "            new_sample.save(srcdir + idx_n + '.' + race + '.png')\n",
    "            #cv2.imwrite(srcdir + idx_n + '.' + race + '.png', new_sample)\n",
    "    print('done')\n",
    "    \n",
    "other_dir = '/home/rush/Face_Recognize/facedata/other/'\n",
    "black_dir = '/home/rush/Face_Recognize/facedata/black/'\n",
    "asian_dir = '/home/rush/Face_Recognize/facedata/asian/'\n",
    "hispanic_dir = '/home/rush/Face_Recognize/facedata/hispanic/'\n",
    "\n",
    "expand_small_sample(other_dir)\n",
    "expand_small_sample(black_dir)\n",
    "expand_small_sample(asian_dir)\n",
    "expand_small_sample(hispanic_dir)"
   ]
  },
  {
   "cell_type": "code",
   "execution_count": null,
   "id": "1f041e36",
   "metadata": {},
   "outputs": [],
   "source": []
  }
 ],
 "metadata": {
  "kernelspec": {
   "display_name": "Python 3 (ipykernel)",
   "language": "python",
   "name": "python3"
  },
  "language_info": {
   "codemirror_mode": {
    "name": "ipython",
    "version": 3
   },
   "file_extension": ".py",
   "mimetype": "text/x-python",
   "name": "python",
   "nbconvert_exporter": "python",
   "pygments_lexer": "ipython3",
   "version": "3.7.11"
  }
 },
 "nbformat": 4,
 "nbformat_minor": 5
}
